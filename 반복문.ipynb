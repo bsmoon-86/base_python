{
 "cells": [
  {
   "cell_type": "markdown",
   "metadata": {},
   "source": [
    "# 반복문 \n",
    "- for문\n",
    "    - for i in range(시작값, 종료값, 증감값): 반복 실행 할 코드 \n",
    "    - 시작값부터 종료값이 될때까지 반복\n",
    "- while문 \n",
    "    - while 조건식 : 반복 실행할 코드 \n",
    "    - 조건식이 거짓이 될때까지 반복"
   ]
  },
  {
   "cell_type": "code",
   "execution_count": null,
   "metadata": {},
   "outputs": [],
   "source": [
    "for i in range(1, 11, 1):\n",
    "    print(i)"
   ]
  },
  {
   "cell_type": "code",
   "execution_count": 2,
   "metadata": {},
   "outputs": [
    {
     "name": "stdout",
     "output_type": "stream",
     "text": [
      "55\n"
     ]
    }
   ],
   "source": [
    "# 1부터 10까지의 합계를 구하는 반복문 \n",
    "\n",
    "# 합계라는 초기 값을 미리 지정\n",
    "result = 0\n",
    "\n",
    "# 1부터 10까지 반복을 하는 반복문 생성\n",
    "for i in range(1, 11, 1):\n",
    "    # i는 1부터 10까지의 값들이 한번씩 대입하여 반복 실행 할 코드가 실행\n",
    "    result = result + i \n",
    "    # 첫 번째 반복 : i = 1, result = 0 -> result = 0 + 1\n",
    "    # 두 번째 반복 : i = 2, result = 1 -> result = 1 + 2\n",
    "    # 세 번째 반복 : i = 3, result = 3 -> result = 3 + 3\n",
    "    # 네 번째 반복 : i = 4, result = 6 -> result = 6 + 4\n",
    "    # 다섯 번째 반복 : i = 5, result = 10 -> result = 10 + 5\n",
    "    # 여섯 번째 반복 : i = 6, result = 15 -> result = 15 + 6\n",
    "    # 일곱 번째 반복 : i = 7, result = 21 -> result = 21 + 7\n",
    "    # 여덟 번째 반복 : i = 8, result = 28 -> result = 28 + 8\n",
    "    # 아홉 번째 반복 : i = 9, result = 36 -> result = 36 + 9\n",
    "    # 열 번째 반복 : i = 10, result = 45 -> result = 45 + 10\n",
    "    # 반복문은 종료\n",
    "    # result는 55\n",
    "print(result)"
   ]
  }
 ],
 "metadata": {
  "kernelspec": {
   "display_name": "Python 3.10.6 64-bit",
   "language": "python",
   "name": "python3"
  },
  "language_info": {
   "codemirror_mode": {
    "name": "ipython",
    "version": 3
   },
   "file_extension": ".py",
   "mimetype": "text/x-python",
   "name": "python",
   "nbconvert_exporter": "python",
   "pygments_lexer": "ipython3",
   "version": "3.10.6"
  },
  "orig_nbformat": 4,
  "vscode": {
   "interpreter": {
    "hash": "aee8b7b246df8f9039afb4144a1f6fd8d2ca17a180786b69acc140d282b71a49"
   }
  }
 },
 "nbformat": 4,
 "nbformat_minor": 2
}
