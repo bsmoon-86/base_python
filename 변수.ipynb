{
 "cells": [
  {
   "cell_type": "code",
   "execution_count": 1,
   "metadata": {},
   "outputs": [],
   "source": [
    "# 주석 : 코드에 설명 , 실행이 되는 부분은 아님\n",
    "\n",
    "\n",
    "# 변수 -> 메모리(컴퓨터 안에 데이터 저장되는 공간)에 데이터(문자, 숫자, 참과 거짓, 배열, 함수)저장되는 공간에 이름을 붙여주는 행위\n",
    "# 변수이름 = '데이터'\n",
    "a = 'Hello World'\n"
   ]
  },
  {
   "cell_type": "code",
   "execution_count": 2,
   "metadata": {},
   "outputs": [
    {
     "name": "stdout",
     "output_type": "stream",
     "text": [
      "Hello World\n"
     ]
    }
   ],
   "source": [
    "print(a)"
   ]
  },
  {
   "cell_type": "code",
   "execution_count": 5,
   "metadata": {},
   "outputs": [
    {
     "name": "stdout",
     "output_type": "stream",
     "text": [
      "Hello\n"
     ]
    }
   ],
   "source": [
    "# 데이터 타입 \n",
    "# 문자열 데이터 : 문자 형태\n",
    "# 숫자형 데이터 : 숫자 형태 (정수, 실수)\n",
    "# bool : 참(1) 과 거짓(0)\n",
    "# 자료형 데이터\n",
    "    # 여러개의 데이터가 하나의 변수에 존재\n",
    "    # 수정이 불가능한 자료형 데이터(튜플('()'))\n",
    "    # 수정이 가능한 자료형 데이터(리스트('[]'), 딕셔너리('{}'))\n",
    "\n",
    "# 튜플형 자료 데이터 - 수정이 불가능\n",
    "tuple_ = (1, 'Hello')\n",
    "# 여러개의 데이터중 특정한 데이터만 출력\n",
    "# 자료형데이터명[위치] -> 위치는 0(첫번째 데이터)부터 길이만큼\n",
    "print(tuple_[1])"
   ]
  },
  {
   "cell_type": "code",
   "execution_count": 15,
   "metadata": {},
   "outputs": [
    {
     "name": "stdout",
     "output_type": "stream",
     "text": [
      "3\n",
      "[1, 5, 3]\n"
     ]
    }
   ],
   "source": [
    "# 수정이 가능한 자료형 데이터 : 리스트\n",
    "_list = [1,5,3,10]\n",
    "print(_list[2])\n",
    "# 리스트에서 여러개의 데이터를 출력\n",
    "# _list[위치1:위치2] -> 위치1부터 위치2전까지 데이터를 출력\n",
    "print(_list[0:3])"
   ]
  },
  {
   "cell_type": "code",
   "execution_count": 16,
   "metadata": {},
   "outputs": [
    {
     "name": "stdout",
     "output_type": "stream",
     "text": [
      "[1, 5, 3, 10, 30]\n"
     ]
    }
   ],
   "source": [
    "# 리스트 형태의 데이터를 수정 \n",
    "# 리스트에 원소를 추가 ->  append(데이터)\n",
    "_list.append(30)\n",
    "print(_list)"
   ]
  },
  {
   "cell_type": "code",
   "execution_count": 18,
   "metadata": {},
   "outputs": [
    {
     "name": "stdout",
     "output_type": "stream",
     "text": [
      "[1, 5, 3]\n"
     ]
    }
   ],
   "source": [
    "# 리스트에서 가장 마지막에 원소를 삭제\n",
    "# pop()\n",
    "_list.pop()\n",
    "print(_list)"
   ]
  },
  {
   "cell_type": "code",
   "execution_count": 19,
   "metadata": {},
   "outputs": [
    {
     "name": "stdout",
     "output_type": "stream",
     "text": [
      "5\n",
      "4\n"
     ]
    }
   ],
   "source": [
    "# len(변수명) : 길이는 출력하는 함수\n",
    "# 변수의 데이터의 타입이 문자면 문자의 개수를 출력 len('Hello') -> 5\n",
    "# 변수의 데이터의 타입이 자료형데이터라면 자료형 데이터의 원소의 개수\n",
    "# len( [1,4,3,2] ) -> 4\n",
    "\n",
    "a = 'Hello'\n",
    "b = [1, 4, 3, 2]\n",
    "\n",
    "print(len(a))\n",
    "print(len(b))"
   ]
  },
  {
   "cell_type": "code",
   "execution_count": 23,
   "metadata": {},
   "outputs": [
    {
     "name": "stdout",
     "output_type": "stream",
     "text": [
      "test\n",
      "test\n"
     ]
    }
   ],
   "source": [
    "# 딕셔너리 자료형 데이터 (사전형 데이터)\n",
    "# {key : value, key2 : value2, ....}\n",
    "# 단어 -> 단어의 풀이\n",
    "# {단어 : 단어의 풀이, 단어2 : 단어2의 풀이, .....}\n",
    "\n",
    "_list = ['test', 20]\n",
    "\n",
    "dict = {\n",
    "    'name' : 'test', \n",
    "    'age' : 20\n",
    "}\n",
    "\n",
    "# _list에서 'test' 문자열을 출력하려면?\n",
    "print(_list[0])\n",
    "# dict에서 'test' 문자열을 출력하려면?\n",
    "print(dict['name'])"
   ]
  },
  {
   "cell_type": "code",
   "execution_count": 24,
   "metadata": {},
   "outputs": [
    {
     "name": "stdout",
     "output_type": "stream",
     "text": [
      "[1, 1, 2, 2, 3, 3, 3, 4, 4, 4]\n"
     ]
    }
   ],
   "source": [
    "# set 자료형 데이터 -> 집합\n",
    "# 데이터의 중복을 모두 제거하고 유일한 원소들을 보여준다. \n",
    "\n",
    "_list = [1,1,2,2,3,3,3,4,4,4]\n",
    "print(_list)"
   ]
  },
  {
   "cell_type": "code",
   "execution_count": 25,
   "metadata": {},
   "outputs": [
    {
     "name": "stdout",
     "output_type": "stream",
     "text": [
      "{1, 2, 3}\n"
     ]
    }
   ],
   "source": [
    "_set = {1,1,1,2,2,2,3,3,3}\n",
    "print(_set)"
   ]
  },
  {
   "cell_type": "code",
   "execution_count": 26,
   "metadata": {},
   "outputs": [],
   "source": [
    "# 복합적인 자료형 데이터 \n",
    "# [  {  } , {  }, {  } ] -> 가장 외곽의 괄호 -> 리스트형 데이터\n",
    "# 복합 자료형 데이터에서 특정한 데이터를 추출\n",
    "# 가장 외곽의 괄호부터 없앤다. \n",
    "sample_data = [\n",
    "    {\n",
    "        'name' : 'test', \n",
    "        'age' : 20 \n",
    "    }, \n",
    "    {\n",
    "        'name' : 'test2', \n",
    "        'age' : 30\n",
    "    }, \n",
    "    {\n",
    "        'name' : 'test3', \n",
    "        'age' : 40\n",
    "    }\n",
    "]"
   ]
  },
  {
   "cell_type": "code",
   "execution_count": 30,
   "metadata": {},
   "outputs": [
    {
     "name": "stdout",
     "output_type": "stream",
     "text": [
      "[{'name': 'test', 'age': 20}, {'name': 'test2', 'age': 30}, {'name': 'test3', 'age': 40}]\n",
      "{'name': 'test', 'age': 20}\n",
      "20\n"
     ]
    }
   ],
   "source": [
    "# sample_data에서 20 데이터를 출력\n",
    "# sample_data 첫번째 위치(0)에 존재\n",
    "# sample_data[0] 'age' 키 값을 호출하면 20\n",
    "print(sample_data)\n",
    "print(sample_data[0])\n",
    "print(sample_data[0]['age'])"
   ]
  },
  {
   "cell_type": "code",
   "execution_count": 33,
   "metadata": {},
   "outputs": [
    {
     "name": "stdout",
     "output_type": "stream",
     "text": [
      "{'name': ['test', 'test2', 'test3', 'test4'], 'age': [20, 30, 40, 50]}\n",
      "['test', 'test2', 'test3', 'test4']\n",
      "test3\n"
     ]
    }
   ],
   "source": [
    "# {  key : [value, value2, value3, value4], key2 : [val, val2, val3, val4] } -> 데이터 타입 딕셔너리\n",
    "sample_data2 = {\n",
    "    'name' : ['test', 'test2', 'test3', 'test4'], \n",
    "    'age' : [20, 30, 40, 50]\n",
    "}\n",
    "# sample_data2에서 test3 원소만 출력하려면?\n",
    "print(sample_data2)\n",
    "# 가장 외곽의 괄호({})를 제거 \n",
    "print(sample_data2['name'])\n",
    "# 리스트 데이터에서 test3를 출력한다. \n",
    "print(sample_data2['name'][2])"
   ]
  },
  {
   "cell_type": "code",
   "execution_count": null,
   "metadata": {},
   "outputs": [],
   "source": []
  }
 ],
 "metadata": {
  "kernelspec": {
   "display_name": "Python 3.10.6 64-bit",
   "language": "python",
   "name": "python3"
  },
  "language_info": {
   "codemirror_mode": {
    "name": "ipython",
    "version": 3
   },
   "file_extension": ".py",
   "mimetype": "text/x-python",
   "name": "python",
   "nbconvert_exporter": "python",
   "pygments_lexer": "ipython3",
   "version": "3.10.6"
  },
  "orig_nbformat": 4,
  "vscode": {
   "interpreter": {
    "hash": "aee8b7b246df8f9039afb4144a1f6fd8d2ca17a180786b69acc140d282b71a49"
   }
  }
 },
 "nbformat": 4,
 "nbformat_minor": 2
}
