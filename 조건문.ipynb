{
 "cells": [
  {
   "cell_type": "markdown",
   "metadata": {},
   "source": [
    "# 조건문\n",
    "- 특정한 조건식이 참인 경우 실행할 코드와 거짓인 경우 실행할 코드를 작성하는 방법\n",
    "- if 조건식: 참인 경우 실행 할 코드 \n",
    "- else : 거짓인 경우 실행 할 코드 "
   ]
  },
  {
   "cell_type": "code",
   "execution_count": 2,
   "metadata": {},
   "outputs": [],
   "source": [
    "x = 10"
   ]
  },
  {
   "cell_type": "code",
   "execution_count": 3,
   "metadata": {},
   "outputs": [
    {
     "name": "stdout",
     "output_type": "stream",
     "text": [
      "9\n"
     ]
    }
   ],
   "source": [
    "# x가 5보다 크다면\n",
    "if x > 5 :\n",
    "    # print(\"x는 5보다 크다\")\n",
    "    x = x - 1\n",
    "else:\n",
    "    # print(\"x는 5보다 작거나 같다\")\n",
    "    x = x + 1\n",
    "\n",
    "print(x)"
   ]
  },
  {
   "cell_type": "code",
   "execution_count": 6,
   "metadata": {},
   "outputs": [
    {
     "name": "stdout",
     "output_type": "stream",
     "text": [
      "x는 5보다 크다\n"
     ]
    }
   ],
   "source": [
    "x = 6\n",
    "# 조건식이 여러개인 경우\n",
    "if x > 5:\n",
    "    print(\"x는 5보다 크다\")\n",
    "elif x == 5:\n",
    "    print('x는 5이다')\n",
    "else:\n",
    "    print('x는 5보다 작다')"
   ]
  },
  {
   "cell_type": "code",
   "execution_count": 8,
   "metadata": {},
   "outputs": [
    {
     "name": "stdout",
     "output_type": "stream",
     "text": [
      "y는 5보다 작거나 같고 아니면 y가 10보다 크거나 같다\n"
     ]
    }
   ],
   "source": [
    "# 조건문에 조건식이 2개 이상인 경우를 비교하는 경우\n",
    "# 논리연산자\n",
    "# and(&) : 논리 연산자 좌우에 있는 조건식이 모두 참인 경우에만 참\n",
    "# or(|) : 논리 연산자 좌우에 있는 조건식 중 하나만 참이여도 참\n",
    "# not(!) : 참을 거짓으로, 거짓을 참\n",
    "y = 3\n",
    "\n",
    "# y가 5보다 크고 그리고 y가 10보다 작은 경우\n",
    "if (y > 5) & (y < 10):\n",
    "    print('y는 5보다 크고 10보다 작다')\n",
    "# y가 5보다 작거나 같고 아니면 y가 10보다 크거나 같은 경우\n",
    "else :\n",
    "    print('y는 5보다 작거나 같고 아니면 y가 10보다 크거나 같다')"
   ]
  },
  {
   "cell_type": "code",
   "execution_count": 11,
   "metadata": {},
   "outputs": [
    {
     "name": "stdout",
     "output_type": "stream",
     "text": [
      "test1\n"
     ]
    }
   ],
   "source": [
    "# 조건식이 bool 형태가 아닌 경우\n",
    "a = \"test\"\n",
    "\n",
    "# a의 값이 존재한다면\n",
    "if a:\n",
    "    a = a + \"1\"\n",
    "else:\n",
    "    a = a + \"2\"\n",
    "\n",
    "print(a)"
   ]
  }
 ],
 "metadata": {
  "kernelspec": {
   "display_name": "Python 3.10.6 64-bit",
   "language": "python",
   "name": "python3"
  },
  "language_info": {
   "codemirror_mode": {
    "name": "ipython",
    "version": 3
   },
   "file_extension": ".py",
   "mimetype": "text/x-python",
   "name": "python",
   "nbconvert_exporter": "python",
   "pygments_lexer": "ipython3",
   "version": "3.10.6"
  },
  "orig_nbformat": 4,
  "vscode": {
   "interpreter": {
    "hash": "aee8b7b246df8f9039afb4144a1f6fd8d2ca17a180786b69acc140d282b71a49"
   }
  }
 },
 "nbformat": 4,
 "nbformat_minor": 2
}
